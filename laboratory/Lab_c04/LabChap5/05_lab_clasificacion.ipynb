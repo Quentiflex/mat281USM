{
 "cells": [
  {
   "cell_type": "markdown",
   "metadata": {},
   "source": [
    "# MAT281\n",
    "## Aplicaciones de la Matemática en la Ingeniería"
   ]
  },
  {
   "cell_type": "code",
   "execution_count": 1,
   "metadata": {},
   "outputs": [],
   "source": [
    "# Configuración para plots inline\n",
    "%matplotlib inline"
   ]
  },
  {
   "cell_type": "markdown",
   "metadata": {},
   "source": [
    "## __Intrucciones__\n",
    "\n",
    "* Completa tus datos personales (nombre y rol USM).\n",
    "* Debes enviar este .ipynb con el siguiente formato de nombre: 08_lab_clasificacion_NOMBRE_APELLIDO.ipynb con tus respuestas a alonso.ogueda@gmail.com y sebastian.flores@usm.cl .\n",
    "* Se evaluará:\n",
    "    - Soluciones\n",
    "    - Código\n",
    "    - Al presionar  `Kernel -> Restart Kernel and Run All Cells` deben ejecutarse todas las celdas sin error.\n",
    "    - La escala es de 0 a 4 considerando solo valores enteros.\n",
    "* __La entrega es al final de esta clase.__\n",
    "\n",
    "__Nombre__: Quentin Carbonnelle\n",
    "\n",
    "__Rol__: 201990422-1"
   ]
  },
  {
   "cell_type": "markdown",
   "metadata": {},
   "source": [
    "## Observación\n",
    "\n",
    "Este laboratorio utiliza la librería sklearn (oficialmente llamada [scikit learn](http://scikit-learn.org/stable/)), de la cual utilizaremos el método de clasificación **k Nearest Neighbors**."
   ]
  },
  {
   "cell_type": "markdown",
   "metadata": {},
   "source": [
    "## Problema: clasificación de dígitos\n",
    "En este laboratorio realizaremos el trabajo de reconocer un dígito a partir de una imagen.\n",
    "\n",
    "El repositorio con los datos se encuentra en el siguiente [link](https://archive.ics.uci.edu/ml/datasets/Optical+Recognition+of+Handwritten+Digits), pero los datos ya han sido incluídos en el directorio `data/`. \n",
    "\n",
    "## Contenido\n",
    "\n",
    "El laboratorio consiste de 4 secciones:\n",
    "0. Explicación de k Neirest Neighbours\n",
    "1. Exploración de los datos.\n",
    "2. Entrenando el modelo kNN.\n",
    "3. Estimación del error de predicción de dígitos utilizando kNN."
   ]
  },
  {
   "cell_type": "markdown",
   "metadata": {},
   "source": [
    "# ¿Qué es k Neirest Neighbours?"
   ]
  },
  {
   "cell_type": "markdown",
   "metadata": {},
   "source": [
    "El algoritmo **k Nearest Neighbors** es un método no paramétrico: una vez que el parámetro $k$ se ha fijado, no se busca obtener ningún parámetro adicional.\n",
    "\n",
    "Sean los puntos $x^{(i)} = (x^{(i)}_1, ..., x^{(i)}_n)$  de etiqueta $y^{(i)}$ conocida, para $i=1, ..., m$.\n",
    "\n",
    "El problema de clasificación consiste en encontrar la etiqueta de un nuevo punto $x=(x_1, ..., x_m)$ para el cual no conocemos la etiqueta."
   ]
  },
  {
   "cell_type": "markdown",
   "metadata": {},
   "source": [
    "La etiqueta de un punto se obtiene de la siguiente forma:\n",
    "* Para $k=1$, **1NN** asigna a $x$ la etiqueta de su vecino más cercano. \n",
    "* Para $k$ genérico, **kNN** asigna a $x$ la etiqueta más popular de los k vecinos más cercanos. \n",
    "\n",
    "El modelo subyacente a kNN es el conjunto de entrenamiento completo. A diferencia de otros métodos que efectivamente generalizan y resumen la información (como regresión logística, por ejemplo), cuando se necesita realizar una predicción, el algoritmo kNN mira **todos** los datos y selecciona los k datos más cercanos, para regresar la etiqueta más popular/más común. Los datos no se resumen en parámetros, sino que siempre deben mantenerse en memoria. Es un método por tanto que no escala bien con un gran número de datos."
   ]
  },
  {
   "cell_type": "markdown",
   "metadata": {},
   "source": [
    "En caso de empate, existen diversas maneras de desempatar:\n",
    "* Elegir la etiqueta del vecino más cercano (problema: no garantiza solución).\n",
    "* Elegir la etiqueta de menor valor (problema: arbitrario).\n",
    "* Elegir la etiqueta que se obtendría con $k+1$ o $k-1$ (problema: no garantiza solución, aumenta tiempo de cálculo)."
   ]
  },
  {
   "cell_type": "markdown",
   "metadata": {},
   "source": [
    "La cercanía o similaridad entre los datos se mide de diversas maneras, pero en general depende del tipo de datos y del contexto.\n",
    "\n",
    "* Para datos reales, puede utilizarse cualquier distancia, siendo la **distancia euclidiana** la más utilizada. También es posible ponderar unas componentes más que otras. Resulta conveniente normalizar para poder utilizar la noción de distancia más naturalmente.\n",
    "\n",
    "* Para **datos categóricos o binarios**, suele utilizarse la distancia de Hamming."
   ]
  },
  {
   "cell_type": "markdown",
   "metadata": {},
   "source": [
    "A continuación, una implementación de \"bare bones\" en numpy:"
   ]
  },
  {
   "cell_type": "code",
   "execution_count": 2,
   "metadata": {},
   "outputs": [
    {
     "data": {
      "image/png": "[encoded data removed]",
      "text/plain": [
       "<Figure size 576x576 with 1 Axes>"
      ]
     },
     "metadata": {
      "needs_background": "light"
     },
     "output_type": "display_data"
    },
    {
     "name": "stdout",
     "output_type": "stream",
     "text": [
      "Prediccion realizada para etiqueta del punto = 0 (circulo azul)\n"
     ]
    }
   ],
   "source": [
    "from matplotlib import pyplot as plt\n",
    "import numpy as np\n",
    "import os\n",
    "\n",
    "# Parámetros\n",
    "k = 10\n",
    "\n",
    "def knn_search(X, k, x):\n",
    "    \"\"\" find K nearest neighbours of data among D \"\"\"\n",
    "    # Distancia euclidiana\n",
    "    d = np.sqrt(((X - x[:,:k])**2).sum(axis=0))\n",
    "    # Ordenar por cercania\n",
    "    idx = np.argsort(d)\n",
    "    # Regresar los k mas cercanos\n",
    "    id_closest = idx[:k] \n",
    "    return id_closest, d[id_closest].max()\n",
    "\n",
    "def knn(X,Y,k,x):\n",
    "    # Obtener los k mas cercanos\n",
    "    k_closest, dmax = knn_search(X, k, x)\n",
    "    # Obtener las etiquetas\n",
    "    Y_closest = Y[k_closest]\n",
    "    # Obtener la mas popular\n",
    "    counts = np.bincount(Y_closest.flatten())\n",
    "    #print(counts)\n",
    "    # Regresar la mas popular (cualquiera, si hay empate)\n",
    "    return np.argmax(counts)\n",
    "\n",
    "N = 100\n",
    "X = np.random.rand(2,N) # random dataset\n",
    "Y = np.array(np.random.rand(N)<0.4, dtype=int).reshape((N,1)) # random dataset\n",
    "x = np.random.rand(2,1) # query point\n",
    "\n",
    "# performing the search\n",
    "neig_idx, dmax = knn_search(X, k, x)\n",
    "y = knn(X, Y, k, x)    \n",
    "    \n",
    "# plotting the data and the input point\n",
    "fig = plt.figure(figsize=(8,8))\n",
    "plt.plot(x[0,0],x[1,0],'ok', ms=16)\n",
    "m_ob = Y[:,0]==0\n",
    "plt.plot(X[0,m_ob], X[1,m_ob], 'ob', ms=8)\n",
    "m_sr = Y[:,0]==1\n",
    "plt.plot(X[0,m_sr],X[1,m_sr],'sr', ms=8)\n",
    "\n",
    "# highlighting the neighbours\n",
    "plt.plot(X[0,neig_idx], X[1,neig_idx], 'o', markerfacecolor='None', markersize=24, markeredgewidth=1)\n",
    "\n",
    "# Plot a circle\n",
    "x_circle = dmax*np.cos(np.linspace(0,2*np.pi,360)) +  x[0,0]\n",
    "y_circle = dmax*np.sin(np.linspace(0,2*np.pi,360)) +  x[1,0]\n",
    "plt.plot(x_circle, y_circle, 'k', alpha=0.25)\n",
    "# Show all\n",
    "plt.xlim([0,1])\n",
    "plt.ylim([0,1])\n",
    "plt.show()\n",
    "\n",
    "# Print result\n",
    "if y==0:\n",
    "  print(\"Prediccion realizada para etiqueta del punto = {} (circulo azul)\".format(y))\n",
    "else:\n",
    "  print(\"Prediccion realizada para etiqueta del punto = {} (cuadrado rojo)\".format(y))"
   ]
  },
  {
   "cell_type": "markdown",
   "metadata": {},
   "source": [
    "Puedes ejecutar varias veces el código anterior, variando el número de vecinos `k` para ver cómo afecta el algoritmo."
   ]
  },
  {
   "cell_type": "markdown",
   "metadata": {},
   "source": [
    "## 1. Exploración de los datos\n",
    "\n",
    "Los datos se encuentran en 2 archivos, `data/optdigits.train` y `data/optdigits.test`. Como su nombre lo indica, el set `data/optdigits.train` contiene los ejemplos que deben ser usados para entrenar el modelo, mientras que el set `data/optdigits.test` se utilizará para obtener una estimación del error de predicción.\n",
    "\n",
    "Ambos archivos comparten el mismo formato: cada línea contiene 65 valores. Los 64 primeros corresponden a la representación de la imagen en escala de grises (0-blanco, 255-negro), y el valor 65 corresponde al dígito de la imagen (0-9)."
   ]
  },
  {
   "cell_type": "markdown",
   "metadata": {},
   "source": [
    "Código para mostrar los archivos en un directorio"
   ]
  },
  {
   "cell_type": "code",
   "execution_count": 3,
   "metadata": {},
   "outputs": [],
   "source": [
    "import os"
   ]
  },
  {
   "cell_type": "code",
   "execution_count": 4,
   "metadata": {},
   "outputs": [
    {
     "name": "stdout",
     "output_type": "stream",
     "text": [
      "Couldn't find program: 'bash'\n"
     ]
    }
   ],
   "source": [
    "%%bash\n",
    "ls data"
   ]
  },
  {
   "cell_type": "markdown",
   "metadata": {},
   "source": [
    "Código para revisar un archivo (reemplazar por cualquiera de los archivos de interés)."
   ]
  },
  {
   "cell_type": "code",
   "execution_count": 5,
   "metadata": {},
   "outputs": [
    {
     "name": "stdout",
     "output_type": "stream",
     "text": [
      "Couldn't find program: 'bash'\n"
     ]
    }
   ],
   "source": [
    "%%bash\n",
    "cat data/optdigits.names.txt"
   ]
  },
  {
   "cell_type": "markdown",
   "metadata": {},
   "source": [
    "Código para mostrar las primeras líneas del archivo"
   ]
  },
  {
   "cell_type": "code",
   "execution_count": 6,
   "metadata": {},
   "outputs": [
    {
     "name": "stdout",
     "output_type": "stream",
     "text": [
      "Couldn't find program: 'bash'\n"
     ]
    }
   ],
   "source": [
    "%%bash\n",
    "head data/optdigits.train"
   ]
  },
  {
   "cell_type": "markdown",
   "metadata": {},
   "source": [
    "#### 1.1 Cargando los datos en numpy\n",
    "\n",
    "Para cargar los datos, utilizamos np.loadtxt con los parámetros extra delimiter (para indicar que el separador será en esta ocasión una coma) y con el dype np.int8 (para que su representación en memoria sea la mínima posible, 8 bits en vez de 32/64 bits para un float)."
   ]
  },
  {
   "cell_type": "code",
   "execution_count": 7,
   "metadata": {
    "collapsed": false,
    "jupyter": {
     "outputs_hidden": false
    }
   },
   "outputs": [
    {
     "name": "stdout",
     "output_type": "stream",
     "text": [
      "[[ 0  1  6 ...  0  0  0]\n",
      " [ 0  0 10 ...  0  0  0]\n",
      " [ 0  0  8 ...  0  0  7]\n",
      " ...\n",
      " [ 0  0  3 ...  0  0  6]\n",
      " [ 0  0  6 ...  5  0  6]\n",
      " [ 0  0  2 ...  0  0  7]]\n"
     ]
    }
   ],
   "source": [
    "import numpy as np\n",
    "import os\n",
    "\n",
    "filepath = os.path.join(\"data\", \"optdigits.train\")\n",
    "XY_tv = np.loadtxt(filepath, delimiter=\",\", dtype=np.int8)\n",
    "print(XY_tv)"
   ]
  },
  {
   "cell_type": "code",
   "execution_count": 8,
   "metadata": {},
   "outputs": [
    {
     "name": "stdout",
     "output_type": "stream",
     "text": [
      "(3823, 64)\n",
      "(3823,)\n",
      "[ 0  1  6 15 12  1  0  0  0  7 16  6  6 10  0  0  0  8 16  2  0 11  2  0\n",
      "  0  5 16  3  0  5  7  0  0  7 13  3  0  8  7  0  0  4 12  0  1 13  5  0\n",
      "  0  0 14  9 15  9  0  0  0  0  6 14  7  1  0  0]\n",
      "[[ 0  1  6 15 12  1  0  0]\n",
      " [ 0  7 16  6  6 10  0  0]\n",
      " [ 0  8 16  2  0 11  2  0]\n",
      " [ 0  5 16  3  0  5  7  0]\n",
      " [ 0  7 13  3  0  8  7  0]\n",
      " [ 0  4 12  0  1 13  5  0]\n",
      " [ 0  0 14  9 15  9  0  0]\n",
      " [ 0  0  6 14  7  1  0  0]]\n",
      "0\n"
     ]
    }
   ],
   "source": [
    "# Split into X (values) and Y (labels)\n",
    "X_tv = XY_tv[:,:64]\n",
    "Y_tv = XY_tv[:, 64]\n",
    "# Some printings\n",
    "print(X_tv.shape)\n",
    "print(Y_tv.shape)\n",
    "print(X_tv[0,:])\n",
    "print(X_tv[0,:].reshape(8,8))\n",
    "print(Y_tv[0])"
   ]
  },
  {
   "cell_type": "markdown",
   "metadata": {},
   "source": [
    "#### 1.1 (bis) Cargando los datos en pandas\n",
    "\n",
    "Para cargar los datos, también sería posible utilizar pandas. Sin embargo, como el archivo no tiene encabezado, necesitaremos crear nombres para las columnas, además de indicar el separador y tipo de datos."
   ]
  },
  {
   "cell_type": "code",
   "execution_count": 9,
   "metadata": {},
   "outputs": [
    {
     "name": "stdout",
     "output_type": "stream",
     "text": [
      "      c00  c01  c02  c03  c04  c05  c06  c07  c08  c09  ...  c55  c56  c57  \\\n",
      "0       0    1    6   15   12    1    0    0    0    7  ...    0    0    0   \n",
      "1       0    0   10   16    6    0    0    0    0    7  ...    0    0    0   \n",
      "2       0    0    8   15   16   13    0    0    0    1  ...    0    0    0   \n",
      "3       0    0    0    3   11   16    0    0    0    0  ...    0    0    0   \n",
      "4       0    0    5   14    4    0    0    0    0    0  ...    0    0    0   \n",
      "...   ...  ...  ...  ...  ...  ...  ...  ...  ...  ...  ...  ...  ...  ...   \n",
      "3818    0    0    5   13   11    2    0    0    0    2  ...    0    0    0   \n",
      "3819    0    0    0    1   12    1    0    0    0    0  ...    0    0    0   \n",
      "3820    0    0    3   15    0    0    0    0    0    0  ...    0    0    0   \n",
      "3821    0    0    6   16    2    0    0    0    0    0  ...    0    0    0   \n",
      "3822    0    0    2   15   16   13    1    0    0    0  ...    0    0    0   \n",
      "\n",
      "      c58  c59  c60  c61  c62  c63  c64  \n",
      "0       6   14    7    1    0    0    0  \n",
      "1      10   16   15    3    0    0    0  \n",
      "2       9   14    0    0    0    0    7  \n",
      "3       0    1   15    2    0    0    4  \n",
      "4       4   12   14    7    0    0    6  \n",
      "...   ...  ...  ...  ...  ...  ...  ...  \n",
      "3818    8   13   15   10    1    0    9  \n",
      "3819    0    4    9    0    0    0    4  \n",
      "3820    4   14   16    9    0    0    6  \n",
      "3821    5   16   16   16    5    0    6  \n",
      "3822    4   14    1    0    0    0    7  \n",
      "\n",
      "[3823 rows x 65 columns]\n"
     ]
    }
   ],
   "source": [
    "import pandas as pd\n",
    "import os\n",
    "\n",
    "filepath = os.path.join(\"data\", \"optdigits.train\")\n",
    "col_names = [\"c{:02d}\".format(i) for i in range(65)]\n",
    "df_XY_tv = pd.read_csv(filepath, names=col_names, sep=\",\", dtype=np.int8)\n",
    "print(df_XY_tv)"
   ]
  },
  {
   "cell_type": "code",
   "execution_count": 10,
   "metadata": {},
   "outputs": [
    {
     "name": "stdout",
     "output_type": "stream",
     "text": [
      "(3823, 64)\n",
      "(3823,)\n",
      "[ 0  1  6 15 12  1  0  0  0  7 16  6  6 10  0  0  0  8 16  2  0 11  2  0\n",
      "  0  5 16  3  0  5  7  0  0  7 13  3  0  8  7  0  0  4 12  0  1 13  5  0\n",
      "  0  0 14  9 15  9  0  0  0  0  6 14  7  1  0  0]\n",
      "[[ 0  1  6 15 12  1  0  0]\n",
      " [ 0  7 16  6  6 10  0  0]\n",
      " [ 0  8 16  2  0 11  2  0]\n",
      " [ 0  5 16  3  0  5  7  0]\n",
      " [ 0  7 13  3  0  8  7  0]\n",
      " [ 0  4 12  0  1 13  5  0]\n",
      " [ 0  0 14  9 15  9  0  0]\n",
      " [ 0  0  6 14  7  1  0  0]]\n",
      "0\n"
     ]
    }
   ],
   "source": [
    "# Split into X (values) and Y (labels)\n",
    "XY_tv = df_XY_tv.values\n",
    "X_tv = XY_tv[:,:64]\n",
    "Y_tv = XY_tv[:, 64]\n",
    "# Some printings\n",
    "print(X_tv.shape)\n",
    "print(Y_tv.shape)\n",
    "print(X_tv[0,:])\n",
    "print(X_tv[0,:].reshape(8,8))\n",
    "print(Y_tv[0])"
   ]
  },
  {
   "cell_type": "markdown",
   "metadata": {},
   "source": [
    "Como ya hemos mencionado anteriormente, pandas tiene la ventaja de poseer el método `describe` para obtener un rápido resumen de los datos."
   ]
  },
  {
   "cell_type": "code",
   "execution_count": 11,
   "metadata": {},
   "outputs": [
    {
     "data": {
      "text/html": [
       "<div>\n",
       "<style scoped>\n",
       "    .dataframe tbody tr th:only-of-type {\n",
       "        vertical-align: middle;\n",
       "    }\n",
       "\n",
       "    .dataframe tbody tr th {\n",
       "        vertical-align: top;\n",
       "    }\n",
       "\n",
       "    .dataframe thead th {\n",
       "        text-align: right;\n",
       "    }\n",
       "</style>\n",
       "<table border=\"1\" class=\"dataframe\">\n",
       "  <thead>\n",
       "    <tr style=\"text-align: right;\">\n",
       "      <th></th>\n",
       "      <th>count</th>\n",
       "      <th>mean</th>\n",
       "      <th>std</th>\n",
       "      <th>min</th>\n",
       "      <th>25%</th>\n",
       "      <th>50%</th>\n",
       "      <th>75%</th>\n",
       "      <th>max</th>\n",
       "    </tr>\n",
       "  </thead>\n",
       "  <tbody>\n",
       "    <tr>\n",
       "      <td>c00</td>\n",
       "      <td>3823.0</td>\n",
       "      <td>0.000000</td>\n",
       "      <td>0.000000</td>\n",
       "      <td>0.0</td>\n",
       "      <td>0.0</td>\n",
       "      <td>0.0</td>\n",
       "      <td>0.0</td>\n",
       "      <td>0.0</td>\n",
       "    </tr>\n",
       "    <tr>\n",
       "      <td>c01</td>\n",
       "      <td>3823.0</td>\n",
       "      <td>0.301334</td>\n",
       "      <td>0.866986</td>\n",
       "      <td>0.0</td>\n",
       "      <td>0.0</td>\n",
       "      <td>0.0</td>\n",
       "      <td>0.0</td>\n",
       "      <td>8.0</td>\n",
       "    </tr>\n",
       "    <tr>\n",
       "      <td>c02</td>\n",
       "      <td>3823.0</td>\n",
       "      <td>5.481821</td>\n",
       "      <td>4.631601</td>\n",
       "      <td>0.0</td>\n",
       "      <td>1.0</td>\n",
       "      <td>5.0</td>\n",
       "      <td>9.0</td>\n",
       "      <td>16.0</td>\n",
       "    </tr>\n",
       "    <tr>\n",
       "      <td>c03</td>\n",
       "      <td>3823.0</td>\n",
       "      <td>11.805912</td>\n",
       "      <td>4.259811</td>\n",
       "      <td>0.0</td>\n",
       "      <td>10.0</td>\n",
       "      <td>13.0</td>\n",
       "      <td>15.0</td>\n",
       "      <td>16.0</td>\n",
       "    </tr>\n",
       "    <tr>\n",
       "      <td>c04</td>\n",
       "      <td>3823.0</td>\n",
       "      <td>11.451478</td>\n",
       "      <td>4.537556</td>\n",
       "      <td>0.0</td>\n",
       "      <td>9.0</td>\n",
       "      <td>13.0</td>\n",
       "      <td>15.0</td>\n",
       "      <td>16.0</td>\n",
       "    </tr>\n",
       "    <tr>\n",
       "      <td>...</td>\n",
       "      <td>...</td>\n",
       "      <td>...</td>\n",
       "      <td>...</td>\n",
       "      <td>...</td>\n",
       "      <td>...</td>\n",
       "      <td>...</td>\n",
       "      <td>...</td>\n",
       "      <td>...</td>\n",
       "    </tr>\n",
       "    <tr>\n",
       "      <td>c60</td>\n",
       "      <td>3823.0</td>\n",
       "      <td>11.461156</td>\n",
       "      <td>4.991934</td>\n",
       "      <td>0.0</td>\n",
       "      <td>9.0</td>\n",
       "      <td>13.0</td>\n",
       "      <td>16.0</td>\n",
       "      <td>16.0</td>\n",
       "    </tr>\n",
       "    <tr>\n",
       "      <td>c61</td>\n",
       "      <td>3823.0</td>\n",
       "      <td>6.700497</td>\n",
       "      <td>5.775815</td>\n",
       "      <td>0.0</td>\n",
       "      <td>0.0</td>\n",
       "      <td>6.0</td>\n",
       "      <td>12.0</td>\n",
       "      <td>16.0</td>\n",
       "    </tr>\n",
       "    <tr>\n",
       "      <td>c62</td>\n",
       "      <td>3823.0</td>\n",
       "      <td>2.105676</td>\n",
       "      <td>4.028266</td>\n",
       "      <td>0.0</td>\n",
       "      <td>0.0</td>\n",
       "      <td>0.0</td>\n",
       "      <td>2.0</td>\n",
       "      <td>16.0</td>\n",
       "    </tr>\n",
       "    <tr>\n",
       "      <td>c63</td>\n",
       "      <td>3823.0</td>\n",
       "      <td>0.202197</td>\n",
       "      <td>1.150694</td>\n",
       "      <td>0.0</td>\n",
       "      <td>0.0</td>\n",
       "      <td>0.0</td>\n",
       "      <td>0.0</td>\n",
       "      <td>16.0</td>\n",
       "    </tr>\n",
       "    <tr>\n",
       "      <td>c64</td>\n",
       "      <td>3823.0</td>\n",
       "      <td>4.497253</td>\n",
       "      <td>2.869831</td>\n",
       "      <td>0.0</td>\n",
       "      <td>2.0</td>\n",
       "      <td>4.0</td>\n",
       "      <td>7.0</td>\n",
       "      <td>9.0</td>\n",
       "    </tr>\n",
       "  </tbody>\n",
       "</table>\n",
       "<p>65 rows × 8 columns</p>\n",
       "</div>"
      ],
      "text/plain": [
       "      count       mean       std  min   25%   50%   75%   max\n",
       "c00  3823.0   0.000000  0.000000  0.0   0.0   0.0   0.0   0.0\n",
       "c01  3823.0   0.301334  0.866986  0.0   0.0   0.0   0.0   8.0\n",
       "c02  3823.0   5.481821  4.631601  0.0   1.0   5.0   9.0  16.0\n",
       "c03  3823.0  11.805912  4.259811  0.0  10.0  13.0  15.0  16.0\n",
       "c04  3823.0  11.451478  4.537556  0.0   9.0  13.0  15.0  16.0\n",
       "..      ...        ...       ...  ...   ...   ...   ...   ...\n",
       "c60  3823.0  11.461156  4.991934  0.0   9.0  13.0  16.0  16.0\n",
       "c61  3823.0   6.700497  5.775815  0.0   0.0   6.0  12.0  16.0\n",
       "c62  3823.0   2.105676  4.028266  0.0   0.0   0.0   2.0  16.0\n",
       "c63  3823.0   0.202197  1.150694  0.0   0.0   0.0   0.0  16.0\n",
       "c64  3823.0   4.497253  2.869831  0.0   2.0   4.0   7.0   9.0\n",
       "\n",
       "[65 rows x 8 columns]"
      ]
     },
     "execution_count": 11,
     "metadata": {},
     "output_type": "execute_result"
    }
   ],
   "source": [
    "df_XY_tv.describe(include=\"all\").T"
   ]
  },
  {
   "cell_type": "markdown",
   "metadata": {},
   "source": [
    "#### 1.2 Visualizando los datos\n",
    "\n",
    "Para visualizar los datos utilizaremos el método `imshow` de `matplotlib`. Resulta necesario convertir el arreglo desde las dimensiones (1,64)  a (8,8) para que la imagen sea cuadrada y pueda distinguirse el dígito. Superpondremos además el label correspondiente al dígito, mediante el método `text`. Esto nos permitirá comparar la imagen generada con la etiqueta asociada a los valores. Realizaremos lo anterior para los primeros 25 datos del archivo."
   ]
  },
  {
   "cell_type": "code",
   "execution_count": 12,
   "metadata": {
    "collapsed": false,
    "jupyter": {
     "outputs_hidden": false
    }
   },
   "outputs": [
    {
     "data": {
      "image/png": "[encoded data removed]",
      "text/plain": [
       "<Figure size 864x864 with 25 Axes>"
      ]
     },
     "metadata": {
      "needs_background": "light"
     },
     "output_type": "display_data"
    }
   ],
   "source": [
    "from matplotlib import pyplot as plt\n",
    "\n",
    "# Well plot the first nx*ny examples\n",
    "nx, ny = 5, 5\n",
    "fig, ax = plt.subplots(nx, ny, figsize=(12,12))\n",
    "for i in range(nx):\n",
    "    for j in range(ny):\n",
    "        index = j+ny*i\n",
    "        data  = X_tv[index,:].reshape(8,8)\n",
    "        label = Y_tv[index]\n",
    "        ax[i][j].imshow(data, interpolation='nearest', cmap=plt.get_cmap('gray_r'))\n",
    "        ax[i][j].text(7, 0, str(int(label)), horizontalalignment='center',\n",
    "                verticalalignment='center', fontsize=10, color='blue')\n",
    "        ax[i][j].get_xaxis().set_visible(False)\n",
    "        ax[i][j].get_yaxis().set_visible(False)\n",
    "plt.show()"
   ]
  },
  {
   "cell_type": "markdown",
   "metadata": {},
   "source": [
    "## 2. Entrenando el modelo\n",
    "\n",
    "#### 2.1 Entrenamiento trivial\n",
    "\n",
    "Entrenaremos el modelo con 1 vecino y verificaremos el error de predicción en el set de entrenamiento."
   ]
  },
  {
   "cell_type": "code",
   "execution_count": 13,
   "metadata": {
    "collapsed": false,
    "jupyter": {
     "outputs_hidden": false
    }
   },
   "outputs": [
    {
     "name": "stdout",
     "output_type": "stream",
     "text": [
      "Hay 0 errores de un total de 3823 ejemplos de entrenamiento\n"
     ]
    }
   ],
   "source": [
    "from sklearn.neighbors import KNeighborsClassifier\n",
    "\n",
    "k = 1\n",
    "kNN = KNeighborsClassifier(n_neighbors=k)\n",
    "kNN.fit(X_tv, Y_tv)\n",
    "Y_pred = kNN.predict(X_tv)\n",
    "n_errors = sum(Y_pred!=Y_tv)\n",
    "print(\"Hay %d errores de un total de %d ejemplos de entrenamiento\" %(n_errors, len(Y_tv)))"
   ]
  },
  {
   "cell_type": "markdown",
   "metadata": {},
   "source": [
    "## Desafío 1\n",
    "¿Porqué el error de entrenamiento es 0 en el modelo?\n",
    "\n",
    "The training set used in kNN.fit() is the same as the test set used in kNN.predict() and because we just used the single nearest neighbour it will always be the same point with thus the same Y value.\n",
    "\n"
   ]
  },
  {
   "cell_type": "markdown",
   "metadata": {},
   "source": [
    "#### 2.2 Buscando el valor de k más apropiado\n",
    "\n",
    "A partir del análisis del punto anterior, nos damos cuenta de la necesidad de:\n",
    "1. Calcular el error en un set distinto al utilizado para entrenar.\n",
    "2. Calcular el mejor valor de vecinos para el algoritmo.\n",
    "\n",
    "## Desafío 2\n",
    "\n",
    "Complete el código entregado a continuación, de modo que se calcule el error de predicción como el porcentaje de aciertos de kNN, para k entre 1 y 10 (ambos incluidos). \n",
    "\n",
    "Realice una división en set de entrenamiento (75%) y de validación (25%), y calcule el valor promedio y desviación estándar del error de predicción (en porcentaje), tomando al menos 20 repeticiones para cada valor de k.\n",
    "\n",
    "OBS: Ejecución de la celda debería tomar alrededor de 5 minutos."
   ]
  },
  {
   "cell_type": "code",
   "execution_count": 14,
   "metadata": {},
   "outputs": [
    {
     "name": "stdout",
     "output_type": "stream",
     "text": [
      "Paciencia. Debería tomar algunos minutos.\n",
      "k : 1\n",
      "k=1: 1.62 +- 0.43 errores de clasificación de un total de 955 puntos\n",
      "k : 2\n",
      "k=2: 2.07 +- 0.45 errores de clasificación de un total de 955 puntos\n",
      "k : 3\n",
      "k=3: 1.62 +- 0.38 errores de clasificación de un total de 955 puntos\n",
      "k : 4\n",
      "k=4: 1.65 +- 0.42 errores de clasificación de un total de 955 puntos\n",
      "k : 5\n",
      "k=5: 1.57 +- 0.38 errores de clasificación de un total de 955 puntos\n",
      "k : 6\n",
      "k=6: 1.76 +- 0.51 errores de clasificación de un total de 955 puntos\n",
      "k : 7\n",
      "k=7: 1.67 +- 0.34 errores de clasificación de un total de 955 puntos\n",
      "k : 8\n",
      "k=8: 1.88 +- 0.40 errores de clasificación de un total de 955 puntos\n",
      "k : 9\n",
      "k=9: 1.75 +- 0.41 errores de clasificación de un total de 955 puntos\n",
      "k : 10\n",
      "k=10: 1.87 +- 0.36 errores de clasificación de un total de 955 puntos\n"
     ]
    }
   ],
   "source": [
    "from sklearn.neighbors import KNeighborsClassifier\n",
    "from sklearn.model_selection import train_test_split # Spoiler alert #\n",
    "\n",
    "print(\"Paciencia. Debería tomar algunos minutos.\")\n",
    "template = \"k={0:,d}: {1:.2f} +- {2:.2f} errores de clasificación de un total de {3:,d} puntos\"\n",
    "# Fitting the model\n",
    "mean_error_for_k = []\n",
    "std_error_for_k = []\n",
    "mask = np.array([False] * (int(len(Y_tv)*0.25)) + [True] * (len(Y_tv)-int(len(Y_tv)*0.25)))\n",
    "k_range = range(1,11)\n",
    "for k in k_range:\n",
    "    print('k :',k)\n",
    "    errors_k = []\n",
    "    for i in range(40):\n",
    "        # Splitting the data\n",
    "        np.random.shuffle(mask)\n",
    "        X_train, X_valid, Y_train, Y_valid = X_tv[mask],X_tv[~mask],Y_tv[mask],Y_tv[~mask]\n",
    "        # Training the model\n",
    "        kNN = KNeighborsClassifier(n_neighbors=k)\n",
    "        kNN.fit(X_train, Y_train)\n",
    "        # Predicting values\n",
    "        Y_valid_pred = kNN.predict(X_valid)\n",
    "        # Count the errors\n",
    "        n_errors = sum(Y_valid_pred!=Y_valid)\n",
    "        # Add them to vector\n",
    "        errors_k.append(100.*n_errors/len(Y_valid))\n",
    "\n",
    "    errors = np.array(errors_k)\n",
    "    print(template.format(k, errors.mean(), errors.std(), len(Y_valid)))\n",
    "    mean_error_for_k.append(errors.mean())\n",
    "    std_error_for_k.append(errors.std())"
   ]
  },
  {
   "cell_type": "markdown",
   "metadata": {},
   "source": [
    "Observación: El código anterior debería dar un resultado similar al siguiente:\n",
    "```\n",
    "k=1: 1.62 +- 0.34 errores de clasificación de un total de 956 puntos\n",
    "```"
   ]
  },
  {
   "cell_type": "markdown",
   "metadata": {},
   "source": [
    "#### 2.3 Visualizado el error de predicción\n",
    "Podemos visualizar los datos anteriores utilizando el siguiente código, que requiere que `sd_error_for k` y `mean_error_for_k` hayan sido apropiadamente definidos."
   ]
  },
  {
   "cell_type": "code",
   "execution_count": 15,
   "metadata": {},
   "outputs": [
    {
     "data": {
      "image/png": "[encoded data removed]",
      "text/plain": [
       "<Figure size 864x576 with 1 Axes>"
      ]
     },
     "metadata": {
      "needs_background": "light"
     },
     "output_type": "display_data"
    }
   ],
   "source": [
    "mean = np.array(mean_error_for_k)\n",
    "std = np.array(std_error_for_k)\n",
    "plt.figure(figsize=(12,8))\n",
    "plt.plot(k_range, mean - std, \"k:\")\n",
    "plt.plot(k_range, mean , \"r.-\")\n",
    "plt.plot(k_range, mean + std, \"k:\")\n",
    "plt.xlabel(\"Numero de vecinos k\")\n",
    "plt.ylabel(\"Error de clasificacion\")\n",
    "plt.show()"
   ]
  },
  {
   "cell_type": "markdown",
   "metadata": {},
   "source": [
    "## Desafío 3\n",
    "¿Qué patrón se observa en los datos, en relación a los números pares e impares? ¿Porqué sucede esto? ¿Qué valor de $k$ elegirá para el algoritmo?\n",
    "\n",
    "When we look at the errors, the pair number of neighbours will always have a worse result than both odd numbers of neighbours if you do +1 or -1 number of neighbours. The error of classification here is the lowest when k=1 so that would be the valor of k that I would choose.\n"
   ]
  },
  {
   "cell_type": "markdown",
   "metadata": {},
   "source": [
    "#### 2.4 Entrenando con todos los datos\n",
    "\n",
    "A partir de lo anterior, se fija el número de vecinos $k$ y se procede a entrenar el modelo con todos los datos. "
   ]
  },
  {
   "cell_type": "code",
   "execution_count": 16,
   "metadata": {
    "collapsed": false,
    "jupyter": {
     "outputs_hidden": false
    }
   },
   "outputs": [
    {
     "data": {
      "text/plain": [
       "KNeighborsClassifier(algorithm='auto', leaf_size=30, metric='minkowski',\n",
       "                     metric_params=None, n_jobs=None, n_neighbors=3, p=2,\n",
       "                     weights='uniform')"
      ]
     },
     "execution_count": 16,
     "metadata": {},
     "output_type": "execute_result"
    }
   ],
   "source": [
    "from sklearn.neighbors import KNeighborsClassifier\n",
    "from sklearn.model_selection import train_test_split\n",
    "import numpy as np\n",
    "\n",
    "k = 3 # Fix here, maybe\n",
    "kNN = KNeighborsClassifier(n_neighbors=k)\n",
    "kNN.fit(X_tv, Y_tv)"
   ]
  },
  {
   "cell_type": "markdown",
   "metadata": {},
   "source": [
    "#### 2.5 Predicción en testing dataset\n",
    "\n",
    "Ahora que el modelo kNN ha sido completamente entrenado, calcularemos el error de predicción en un set de datos completamente nuevo: el set de testing. \n",
    "\n",
    "## Desafío 4\n",
    "Complete el código a continuación, para cargar los datos del set de entrenamiento y realizar una predicción de los dígitos de cada imagen. ***No cambie los nombres de las variables***."
   ]
  },
  {
   "cell_type": "code",
   "execution_count": 17,
   "metadata": {
    "collapsed": false,
    "jupyter": {
     "outputs_hidden": false
    }
   },
   "outputs": [],
   "source": [
    "# Cargando el archivo data/optdigits.test\n",
    "filepath = os.path.join(\"data\", \"optdigits.test\")\n",
    "XY_test = np.loadtxt(filepath, delimiter=\",\", dtype=np.int8)\n",
    "X_test = XY_test[:,:64]\n",
    "Y_test = XY_test[:, 64]\n",
    "# Predicción de etiquetas\n",
    "Y_pred = kNN.predict(X_test)"
   ]
  },
  {
   "cell_type": "markdown",
   "metadata": {},
   "source": [
    "#### 2.6 Visualización de etiquetas correctas\n",
    "Puesto que tenemos las etiquetas verdaderas en el set de test, podemos visualizar únicamente los números que han sido correctamente etiquetados. Ejecute el código a continuación."
   ]
  },
  {
   "cell_type": "code",
   "execution_count": 18,
   "metadata": {
    "collapsed": false,
    "jupyter": {
     "outputs_hidden": false
    }
   },
   "outputs": [
    {
     "data": {
      "image/png": "[encoded data removed]",
      "text/plain": [
       "<Figure size 864x864 with 25 Axes>"
      ]
     },
     "metadata": {
      "needs_background": "light"
     },
     "output_type": "display_data"
    }
   ],
   "source": [
    "from matplotlib import pyplot as plt\n",
    "\n",
    "# Mostrar los datos correctos\n",
    "mask = (Y_pred==Y_test)\n",
    "X_aux = X_test[mask]\n",
    "Y_aux_true = Y_test[mask]\n",
    "Y_aux_pred = Y_pred[mask]\n",
    "\n",
    "# We'll plot the first 100 examples, randomly choosen\n",
    "nx, ny = 5, 5\n",
    "fig, ax = plt.subplots(nx, ny, figsize=(12,12))\n",
    "for i in range(nx):\n",
    "    for j in range(ny):\n",
    "        index = j+ny*i\n",
    "        data  = X_aux[index,:].reshape(8,8)\n",
    "        label_pred = str(int(Y_aux_pred[index]))\n",
    "        label_true = str(int(Y_aux_true[index]))\n",
    "        ax[i][j].imshow(data, interpolation='nearest', cmap=plt.get_cmap('gray_r'))\n",
    "        ax[i][j].text(0, 0, label_pred, horizontalalignment='center',\n",
    "                verticalalignment='center', fontsize=10, color='green')\n",
    "        ax[i][j].text(7, 0, label_true, horizontalalignment='center',\n",
    "                verticalalignment='center', fontsize=10, color='blue')\n",
    "        ax[i][j].get_xaxis().set_visible(False)\n",
    "        ax[i][j].get_yaxis().set_visible(False)\n",
    "plt.show()"
   ]
  },
  {
   "cell_type": "markdown",
   "metadata": {},
   "source": [
    "#### 2.7 Visualización de etiquetas incorrectas\n",
    "Más interesante que el gráfico anterior, resulta considerar los casos donde los dígitos han sido incorrectamente etiquetados. "
   ]
  },
  {
   "cell_type": "markdown",
   "metadata": {},
   "source": [
    "## Desafio 5\n",
    "Modifique el código anteriormente provisto para que muestre los dígitos incorrectamente etiquetados, cambiando apropiadamente la máscara. Cambie también el color de la etiqueta desde verde a rojo, para indicar una mala etiquetación. "
   ]
  },
  {
   "cell_type": "code",
   "execution_count": 19,
   "metadata": {
    "collapsed": false,
    "jupyter": {
     "outputs_hidden": false
    }
   },
   "outputs": [
    {
     "data": {
      "image/png": "[encoded data removed]",
      "text/plain": [
       "<Figure size 864x864 with 25 Axes>"
      ]
     },
     "metadata": {
      "needs_background": "light"
     },
     "output_type": "display_data"
    }
   ],
   "source": [
    "from matplotlib import pyplot as plt\n",
    "\n",
    "# Mostrar los datos correctos\n",
    "mask = (Y_pred!=Y_test)\n",
    "X_aux = X_test[mask]\n",
    "Y_aux_true = Y_test[mask]\n",
    "Y_aux_pred = Y_pred[mask]\n",
    "\n",
    "# We'll plot the first 100 examples, randomly choosen\n",
    "nx, ny = 5, 5\n",
    "fig, ax = plt.subplots(nx, ny, figsize=(12,12))\n",
    "for i in range(nx):\n",
    "    for j in range(ny):\n",
    "        index = j+ny*i\n",
    "        data  = X_aux[index,:].reshape(8,8)\n",
    "        label_pred = str(int(Y_aux_pred[index]))\n",
    "        label_true = str(int(Y_aux_true[index]))\n",
    "        ax[i][j].imshow(data, interpolation='nearest', cmap=plt.get_cmap('gray_r'))\n",
    "        ax[i][j].text(0, 0, label_pred, horizontalalignment='center',\n",
    "                verticalalignment='center', fontsize=10, color='red')\n",
    "        ax[i][j].text(7, 0, label_true, horizontalalignment='center',\n",
    "                verticalalignment='center', fontsize=10, color='blue')\n",
    "        ax[i][j].get_xaxis().set_visible(False)\n",
    "        ax[i][j].get_yaxis().set_visible(False)\n",
    "plt.show()"
   ]
  },
  {
   "cell_type": "markdown",
   "metadata": {},
   "source": [
    "#### 2.8 Análisis del error\n",
    "\n",
    "Después de la exploración visual de los resultados, estamos ansiosos de obtener el error de predicción real del modelo."
   ]
  },
  {
   "cell_type": "markdown",
   "metadata": {},
   "source": [
    "## Desafío 6\n",
    "Complete el código, obteniendo el error de clasificación para cada dígito. Indique el error obtenido en su respuesta.\n",
    "¿Existen dígitos más fáciles o difíciles de clasificar?\n",
    "\n",
    "***RESPONDER AQUI***\n",
    "\n"
   ]
  },
  {
   "cell_type": "code",
   "execution_count": 22,
   "metadata": {
    "collapsed": false,
    "jupyter": {
     "outputs_hidden": false
    }
   },
   "outputs": [
    {
     "name": "stdout",
     "output_type": "stream",
     "text": [
      "Error de predicción total de 2.2%\n",
      "Error de predicción para digito 0 de 0.0%\n",
      "Error de predicción para digito 1 de 1.1%\n",
      "Error de predicción para digito 2 de 2.3%\n",
      "Error de predicción para digito 3 de 1.1%\n",
      "Error de predicción para digito 4 de 1.7%\n",
      "Error de predicción para digito 5 de 1.6%\n",
      "Error de predicción para digito 6 de 0.0%\n",
      "Error de predicción para digito 7 de 3.9%\n",
      "Error de predicción para digito 8 de 6.9%\n",
      "Error de predicción para digito 9 de 3.3%\n"
     ]
    }
   ],
   "source": [
    "# Error global\n",
    "mask = (Y_pred!=Y_test)\n",
    "error_prediccion =  100.*sum(mask) / len(Y_pred)\n",
    "print(\"Error de predicción total de {:.1f}%\".format(error_prediccion))\n",
    "\n",
    "for digito in range(0,10):\n",
    "    mask_digito = (Y_test==digito)\n",
    "    Y_test_digito = Y_test[mask_digito] \n",
    "    Y_pred_digito = Y_pred[mask_digito]\n",
    "    error_prediccion = 100.*sum((Y_pred_digito!=Y_test_digito)) / len(Y_pred_digito)\n",
    "    print(\"Error de predicción para digito {} de {:.1f}%\".format(digito, error_prediccion))"
   ]
  },
  {
   "cell_type": "markdown",
   "metadata": {},
   "source": [
    "#### 2.9 Análisis del error (cont. de)\n",
    "\n",
    "La matriz de confusión (confusion matrix) indica la relación entre las etiquetas clasificadas correcta e incorrectamente:\n",
    "\n",
    "*Compute confusion matrix to evaluate the accuracy of a classification*\n",
    "*By definition a confusion matrix $C$ is such that $C_{i,j}$ is equal to the number of observations known to be in group $i$ but predicted to be in group $j$.* \n",
    "\n",
    "Es decir, el elemento $C_{3,3}$ cuenta la cantidad de veces que el dígito 3 fue clasificado correctamente, mientras que $C_{9,7}$ indica la cantidad de veces que el dígito 9 fue incorrectamente clasificado como el digito 7.\n",
    "\n",
    "Observación: Lo anterior corresponde a la convención utilizada por sklearn. La convención puede variar según la referencia.\n",
    "\n",
    "El siguiente código muestra cómo clasificar el error de clasificación con la matriz de confusión:"
   ]
  },
  {
   "cell_type": "code",
   "execution_count": 23,
   "metadata": {
    "collapsed": false,
    "jupyter": {
     "outputs_hidden": false
    }
   },
   "outputs": [
    {
     "name": "stdout",
     "output_type": "stream",
     "text": [
      "[[178   0   0   0   0   0   0   0   0   0]\n",
      " [  0 180   0   0   0   0   1   0   1   0]\n",
      " [  0   4 173   0   0   0   0   0   0   0]\n",
      " [  0   0   0 181   0   0   0   1   1   0]\n",
      " [  0   2   0   0 178   0   0   0   1   0]\n",
      " [  0   0   0   1   1 179   0   0   0   1]\n",
      " [  0   0   0   0   0   0 181   0   0   0]\n",
      " [  0   0   0   0   0   0   0 172   1   6]\n",
      " [  0   9   0   1   0   0   0   0 162   2]\n",
      " [  0   0   0   4   0   1   0   0   1 174]]\n"
     ]
    }
   ],
   "source": [
    "from sklearn.metrics import confusion_matrix\n",
    "cm = confusion_matrix(Y_test, Y_pred)\n",
    "print(cm)"
   ]
  },
  {
   "cell_type": "code",
   "execution_count": 24,
   "metadata": {
    "collapsed": false,
    "jupyter": {
     "outputs_hidden": false
    }
   },
   "outputs": [
    {
     "data": {
      "text/plain": [
       "<Figure size 432x288 with 0 Axes>"
      ]
     },
     "metadata": {},
     "output_type": "display_data"
    },
    {
     "data": {
      "image/png": "[encoded data removed]",
      "text/plain": [
       "<Figure size 720x720 with 2 Axes>"
      ]
     },
     "metadata": {
      "needs_background": "light"
     },
     "output_type": "display_data"
    }
   ],
   "source": [
    "# As in http://scikit-learn.org/stable/auto_examples/model_selection/plot_confusion_matrix.html\n",
    "def plot_confusion_matrix(cm, title='Confusion matrix (withou)', cmap=plt.cm.gray_r):\n",
    "    cm_aux = cm - np.diag(np.diag(cm))\n",
    "    plt.figure(figsize=(10,10))\n",
    "    plt.imshow(cm_aux, interpolation='nearest', cmap=cmap)\n",
    "    plt.title(title)\n",
    "    plt.colorbar()\n",
    "    tick_marks = np.arange(10)\n",
    "    plt.xticks(tick_marks, tick_marks)\n",
    "    plt.yticks(tick_marks, tick_marks)\n",
    "    plt.tight_layout()\n",
    "    plt.ylabel('True label')\n",
    "    plt.xlabel('Predicted label')\n",
    "    plt.show()\n",
    "    return None\n",
    "\n",
    "# Compute confusion matrix\n",
    "plt.figure()\n",
    "plot_confusion_matrix(cm)"
   ]
  },
  {
   "cell_type": "markdown",
   "metadata": {},
   "source": [
    "## Desafío 7\n",
    "¿Qué puede observarse a partir de la matriz de confusión anterior?\n",
    "\n",
    "\n",
    "***RESPONDER AQUI***\n",
    "\n",
    "Se observa claramente que la etiqueta más incorrectamente clasificada es para el dígito 8, que se clasifica incorrectamente como 1.\n",
    "(This response was already written)"
   ]
  },
  {
   "cell_type": "code",
   "execution_count": null,
   "metadata": {},
   "outputs": [],
   "source": []
  },
  {
   "cell_type": "code",
   "execution_count": null,
   "metadata": {},
   "outputs": [],
   "source": []
  },
  {
   "cell_type": "code",
   "execution_count": null,
   "metadata": {},
   "outputs": [],
   "source": []
  }
 ],
 "metadata": {
  "celltoolbar": "Slideshow",
  "kernelspec": {
   "display_name": "Python 3",
   "language": "python",
   "name": "python3"
  },
  "language_info": {
   "codemirror_mode": {
    "name": "ipython",
    "version": 3
   },
   "file_extension": ".py",
   "mimetype": "text/x-python",
   "name": "python",
   "nbconvert_exporter": "python",
   "pygments_lexer": "ipython3",
   "version": "3.7.3"
  }
 },
 "nbformat": 4,
 "nbformat_minor": 4
}
